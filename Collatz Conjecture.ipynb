{
 "cells": [
  {
   "cell_type": "code",
   "execution_count": 45,
   "source": [
    "import pandas as pd\r\n",
    "import numpy as np\r\n",
    "\r\n",
    "\r\n",
    "import matplotlib_inline\r\n",
    "\r\n",
    "%matplotlib inline\r\n",
    "from matplotlib import pyplot as plt"
   ],
   "outputs": [],
   "metadata": {}
  },
  {
   "cell_type": "code",
   "execution_count": 74,
   "source": [
    "def drow_plot(df):\r\n",
    "    plt.plot(df.x, df.y,  marker=\"o\")  # color=\"grey\"\r\n",
    "    plt.xlabel('STEPS')\r\n",
    "    plt.ylabel('NUMBER REACHED')\r\n",
    "    plt.grid()\r\n",
    "    plt.show()\r\n"
   ],
   "outputs": [],
   "metadata": {}
  },
  {
   "cell_type": "code",
   "execution_count": 75,
   "source": [
    "def create_data_frame(y,x): #take the tow lists and append them to the data frame (NUMBER OS STEPS IN x AND THE NUMBER IN y)\r\n",
    "\r\n",
    "    \"\"\" \r\n",
    "    se = pd.Series(mylist)\r\n",
    "    df['new_col'] = se.values\r\n",
    "    or\r\n",
    "    df['new_col'] = np.array(mylist)\r\n",
    "    \"\"\"\r\n",
    "\r\n",
    "    df = pd.DataFrame()\r\n",
    "    df['x'] =np.array(x)\r\n",
    "\r\n",
    "    df['y'] =np.array(y)\r\n",
    "    #Display the dataframe\r\n",
    "    #df = pd.DataFrame.from_records([{'x': x, 'y': y}])\r\n",
    "    drow_plot(df)\r\n"
   ],
   "outputs": [],
   "metadata": {}
  },
  {
   "cell_type": "code",
   "execution_count": 76,
   "source": [
    "#######################################################(3N+1)#######################################################\r\n",
    "## get hte input form the user any number\r\n",
    "def get_the_number():\r\n",
    "    number = int(input(\"Please enter number : \\n\"))\r\n",
    "    collatz_Conjecture(number)\r\n",
    "\r\n",
    "###################################################################################################################################\r\n",
    "\r\n",
    "# IF NUMBER IS ODD MULTIPLY 3 AND ADD 1 (NUMBER X 3 +1)\r\n",
    "# IF NUMBER IS EVER WE DIVIDE BY 2 (NUMBER  /2)\r\n",
    "def collatz_Conjecture (number):\r\n",
    "    input_number = number\r\n",
    "    steps_count = 0\r\n",
    "    steps=[]\r\n",
    "    total_numbers_in_prossec =[]\r\n",
    "    while number > 0 :\r\n",
    "\r\n",
    "        if number % 2 ==1: #NUMBER IS ODD\r\n",
    "            number = number * 3 + 1\r\n",
    "            #print(f\"The number : {number}  is odd , so we multiply by 3 and add 1     >>>>> (NUMBER X 3 +1)\")\r\n",
    "            total_numbers_in_prossec.append(number)\r\n",
    "            steps.append(steps_count)\r\n",
    "            steps_count += 1\r\n",
    "\r\n",
    "        if number %2 ==0 : # NUMBER IS EVEN\r\n",
    "            number = number / 2\r\n",
    "            #print(f\"The number : {number}  is even , so we divide by 2                >>>>> (NUMBER / 2)    \")\r\n",
    "            total_numbers_in_prossec.append(number)\r\n",
    "            steps.append(steps_count)\r\n",
    "            steps_count += 1\r\n",
    "\r\n",
    "        if number ==1:\r\n",
    "            print(f\"IT took {input_number} :({steps_count}) steps ,to reach 1 !!, Exit now !!!\")\r\n",
    "\r\n",
    "            \"\"\" \r\n",
    "            for i in steps:\r\n",
    "                print(f\"in the step number {i}, the number was {total_numbers_in_prossec[i]}\")\r\n",
    "\r\n",
    "            #print(f\"steps {steps}\")\r\n",
    "            #print(f\"total number in the process {total_numbers_in_prossec}\") \r\n",
    "            \"\"\"\r\n",
    "            break\r\n",
    "    create_data_frame(total_numbers_in_prossec,steps)\r\n",
    "###################################################################################################################################    \r\n"
   ],
   "outputs": [],
   "metadata": {}
  },
  {
   "cell_type": "code",
   "execution_count": 77,
   "source": [
    "###################################################################################################################################\r\n",
    "###################################################################################################################################\r\n",
    "############################################### THIS IS WHERE YOU WANT TO REPEAT ##################################################\r\n",
    "###################################################################################################################################\r\n",
    "###################################################################################################################################\r\n",
    "\r\n",
    "get_the_number()\r\n"
   ],
   "outputs": [
    {
     "output_type": "stream",
     "name": "stdout",
     "text": [
      "IT took 27 :(111) steps ,to reach 1 !!, Exit now !!!\n"
     ]
    },
    {
     "output_type": "display_data",
     "data": {
      "image/png": "[encoded data removed]",
      "text/plain": [
       "<Figure size 432x288 with 1 Axes>"
      ]
     },
     "metadata": {
      "needs_background": "light"
     }
    }
   ],
   "metadata": {}
  },
  {
   "cell_type": "code",
   "execution_count": 3,
   "source": [],
   "outputs": [
    {
     "output_type": "execute_result",
     "data": {
      "text/plain": [
       "1"
      ]
     },
     "metadata": {},
     "execution_count": 3
    }
   ],
   "metadata": {}
  },
  {
   "cell_type": "code",
   "execution_count": 4,
   "source": [
    "3%1"
   ],
   "outputs": [
    {
     "output_type": "execute_result",
     "data": {
      "text/plain": [
       "0"
      ]
     },
     "metadata": {},
     "execution_count": 4
    }
   ],
   "metadata": {}
  },
  {
   "cell_type": "code",
   "execution_count": null,
   "source": [],
   "outputs": [],
   "metadata": {}
  }
 ],
 "metadata": {
  "orig_nbformat": 4,
  "language_info": {
   "name": "python",
   "version": "3.9.7",
   "mimetype": "text/x-python",
   "codemirror_mode": {
    "name": "ipython",
    "version": 3
   },
   "pygments_lexer": "ipython3",
   "nbconvert_exporter": "python",
   "file_extension": ".py"
  },
  "kernelspec": {
   "name": "python3",
   "display_name": "Python 3.9.7 64-bit"
  },
  "interpreter": {
   "hash": "0ec66bbe782f389edb8615b95e71913b48001538f92dc4d53a6c71a0eff16772"
  }
 },
 "nbformat": 4,
 "nbformat_minor": 2
}